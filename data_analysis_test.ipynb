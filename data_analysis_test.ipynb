{
 "cells": [
  {
   "cell_type": "markdown",
   "metadata": {},
   "source": [
    "# Data Analysis Test\n",
    "\n",
    "Use file `./ref/crop_data.csv` for input\n",
    "\n",
    "Use `pandas` lib\n",
    "\n",
    "Write your code and display readable result"
   ]
  },
  {
   "cell_type": "code",
   "execution_count": 1,
   "metadata": {},
   "outputs": [],
   "source": [
    "import pandas as pd"
   ]
  },
  {
   "cell_type": "code",
   "execution_count": 3,
   "metadata": {},
   "outputs": [
    {
     "name": "stdout",
     "output_type": "stream",
     "text": [
      "<class 'pandas.core.frame.DataFrame'>\n",
      "RangeIndex: 11914 entries, 0 to 11913\n",
      "Data columns (total 7 columns):\n",
      " #   Column            Non-Null Count  Dtype  \n",
      "---  ------            --------------  -----  \n",
      " 0   crop_year         11914 non-null  object \n",
      " 1   year              11914 non-null  int64  \n",
      " 2   product           11914 non-null  object \n",
      " 3   province          11914 non-null  object \n",
      " 4   area_plant_rai    11769 non-null  float64\n",
      " 5   area_harvest_rai  11728 non-null  float64\n",
      " 6   production_ton    11692 non-null  float64\n",
      "dtypes: float64(3), int64(1), object(3)\n",
      "memory usage: 651.7+ KB\n"
     ]
    }
   ],
   "source": [
    "# read csv file\n",
    "\n",
    "df = pd.read_csv(\"./ref/crop_data.csv\")\n",
    "df.info()"
   ]
  },
  {
   "cell_type": "markdown",
   "metadata": {},
   "source": [
    "### Example Question\n",
    "\n",
    "How many \"ยางพารา\" produced in whole country (\"ทั้งประเทศ\")\n"
   ]
  },
  {
   "cell_type": "code",
   "execution_count": 4,
   "metadata": {},
   "outputs": [
    {
     "data": {
      "text/plain": [
       "47686839.0"
      ]
     },
     "execution_count": 4,
     "metadata": {},
     "output_type": "execute_result"
    }
   ],
   "source": [
    "# How many \"ยางพารา\" produced in whole country (\"ทั้งประเทศ\")\n",
    "new_df = df.loc[\n",
    "    (df[\"product\"] == \"ยางพารา\" ) &\n",
    "    (df[\"province\"] == \"ทั้งประเทศ\") \n",
    "]\n",
    "sum(new_df[\"production_ton\"])\n"
   ]
  },
  {
   "cell_type": "markdown",
   "metadata": {},
   "source": [
    "### Question 1\n",
    "\n",
    "How many \"ข้าวนาปี\" produced in \"ยะลา\" between year 2550 - 2553\n"
   ]
  },
  {
   "cell_type": "code",
   "execution_count": 18,
   "metadata": {},
   "outputs": [
    {
     "name": "stdout",
     "output_type": "stream",
     "text": [
      "There are 186830.0 tons of ข้าวนาปี produced in ยะลา\n"
     ]
    }
   ],
   "source": [
    "# Write you code and display question 1 result here.\n",
    "q1_df = df.loc[(df['product'] == \"ข้าวนาปี\") & (df['province'] == \"ยะลา\")]\n",
    "sum_q1 = sum(q1_df[\"production_ton\"])\n",
    "print(f\"There are {sum_q1} tons of ข้าวนาปี produced in ยะลา\")"
   ]
  },
  {
   "cell_type": "markdown",
   "metadata": {},
   "source": [
    "### Question 2\n",
    "\n",
    "Calculate harvest rate of \"ข้าวนาปี\" in whole country\n",
    "\n",
    "_harvest rate = area_harvest_rai / area_plant_rai_"
   ]
  },
  {
   "cell_type": "code",
   "execution_count": 59,
   "metadata": {},
   "outputs": [],
   "source": [
    "df_q2 =  df.loc[(df['product'] == \"ข้าวนาปี\") & (df['province'] == \"ทั้งประเทศ\")]"
   ]
  },
  {
   "cell_type": "code",
   "execution_count": 61,
   "metadata": {},
   "outputs": [
    {
     "name": "stdout",
     "output_type": "stream",
     "text": [
      "area_harvest_rai 730340255.0\n",
      "area_plant_rai 783456906.0\n",
      "harvest_rate 0.9322022046225986\n"
     ]
    }
   ],
   "source": [
    "# Write you code and display question 2 result here.\n",
    "# replace with your code\n",
    "area_harvest_rai = sum(df_q2['area_harvest_rai'])\n",
    "area_plant_rai = sum(df_q2['area_plant_rai'])\n",
    "harvest_rate = area_harvest_rai / area_plant_rai\n",
    "\n",
    "print('area_harvest_rai', area_harvest_rai)\n",
    "print('area_plant_rai', area_plant_rai)\n",
    "print('harvest_rate', harvest_rate)"
   ]
  },
  {
   "cell_type": "markdown",
   "metadata": {},
   "source": [
    "### Question 3\n",
    "\n",
    "Calculate total profit of \"ข้าวโพดฝักอ่อน\" produced in \"ภาคเหนือ\" from year 2555 to 2562\n",
    "- profit rate in year 2555 - year 2559 is 50% (selling price is 50THB/kg.)\n",
    "- profit rate in year 2560 - year 2562 is 30% (selling price is 120THB/kg.)\n",
    "- assume all product was sold out every year.\n"
   ]
  },
  {
   "cell_type": "code",
   "execution_count": 62,
   "metadata": {},
   "outputs": [
    {
     "data": {
      "text/html": [
       "<div>\n",
       "<style scoped>\n",
       "    .dataframe tbody tr th:only-of-type {\n",
       "        vertical-align: middle;\n",
       "    }\n",
       "\n",
       "    .dataframe tbody tr th {\n",
       "        vertical-align: top;\n",
       "    }\n",
       "\n",
       "    .dataframe thead th {\n",
       "        text-align: right;\n",
       "    }\n",
       "</style>\n",
       "<table border=\"1\" class=\"dataframe\">\n",
       "  <thead>\n",
       "    <tr style=\"text-align: right;\">\n",
       "      <th></th>\n",
       "      <th>crop_year</th>\n",
       "      <th>year</th>\n",
       "      <th>product</th>\n",
       "      <th>province</th>\n",
       "      <th>area_plant_rai</th>\n",
       "      <th>area_harvest_rai</th>\n",
       "      <th>production_ton</th>\n",
       "    </tr>\n",
       "  </thead>\n",
       "  <tbody>\n",
       "    <tr>\n",
       "      <th>0</th>\n",
       "      <td>2549/50</td>\n",
       "      <td>2550</td>\n",
       "      <td>ข้าวนาปี</td>\n",
       "      <td>ทั้งประเทศ</td>\n",
       "      <td>57541825.0</td>\n",
       "      <td>53500163.0</td>\n",
       "      <td>23108401.0</td>\n",
       "    </tr>\n",
       "    <tr>\n",
       "      <th>1</th>\n",
       "      <td>2550/51</td>\n",
       "      <td>2551</td>\n",
       "      <td>ข้าวนาปี</td>\n",
       "      <td>ทั้งประเทศ</td>\n",
       "      <td>57385921.0</td>\n",
       "      <td>53892143.0</td>\n",
       "      <td>23582596.0</td>\n",
       "    </tr>\n",
       "    <tr>\n",
       "      <th>2</th>\n",
       "      <td>2551/52</td>\n",
       "      <td>2552</td>\n",
       "      <td>ข้าวนาปี</td>\n",
       "      <td>ทั้งประเทศ</td>\n",
       "      <td>57422337.0</td>\n",
       "      <td>54385144.0</td>\n",
       "      <td>23508833.0</td>\n",
       "    </tr>\n",
       "    <tr>\n",
       "      <th>3</th>\n",
       "      <td>2552/53</td>\n",
       "      <td>2553</td>\n",
       "      <td>ข้าวนาปี</td>\n",
       "      <td>ทั้งประเทศ</td>\n",
       "      <td>57497441.0</td>\n",
       "      <td>54739638.0</td>\n",
       "      <td>23430770.0</td>\n",
       "    </tr>\n",
       "    <tr>\n",
       "      <th>4</th>\n",
       "      <td>2553/54</td>\n",
       "      <td>2554</td>\n",
       "      <td>ข้าวนาปี</td>\n",
       "      <td>ทั้งประเทศ</td>\n",
       "      <td>64574071.0</td>\n",
       "      <td>59690203.0</td>\n",
       "      <td>25742917.0</td>\n",
       "    </tr>\n",
       "  </tbody>\n",
       "</table>\n",
       "</div>"
      ],
      "text/plain": [
       "  crop_year  year   product    province  area_plant_rai  area_harvest_rai  \\\n",
       "0   2549/50  2550  ข้าวนาปี  ทั้งประเทศ      57541825.0        53500163.0   \n",
       "1   2550/51  2551  ข้าวนาปี  ทั้งประเทศ      57385921.0        53892143.0   \n",
       "2   2551/52  2552  ข้าวนาปี  ทั้งประเทศ      57422337.0        54385144.0   \n",
       "3   2552/53  2553  ข้าวนาปี  ทั้งประเทศ      57497441.0        54739638.0   \n",
       "4   2553/54  2554  ข้าวนาปี  ทั้งประเทศ      64574071.0        59690203.0   \n",
       "\n",
       "   production_ton  \n",
       "0      23108401.0  \n",
       "1      23582596.0  \n",
       "2      23508833.0  \n",
       "3      23430770.0  \n",
       "4      25742917.0  "
      ]
     },
     "execution_count": 62,
     "metadata": {},
     "output_type": "execute_result"
    }
   ],
   "source": [
    "df.head()"
   ]
  },
  {
   "cell_type": "code",
   "execution_count": 69,
   "metadata": {},
   "outputs": [
    {
     "name": "stdout",
     "output_type": "stream",
     "text": [
      "Total profit of ข้าวโพดฝักอ่อน from 2555 to 2562 is 5076935000.0 THB\n"
     ]
    }
   ],
   "source": [
    "# Write you code and display question 3 result here.\n",
    "\n",
    "df_corn_north = df.loc[(df['product'] == \"ข้าวโพดฝักอ่อน\") & (df['province'] == \"ภาคเหนือ\")]\n",
    "df_corn_2555to2559 = df_corn_north.loc[(df_corn_north['year'] >= 2555) & (df_corn_north['year'] <= 2559)]\n",
    "df_corn_2560to2562 = df_corn_north.loc[(df_corn_north['year'] >= 2560) & (df_corn_north['year'] <= 2562)]\n",
    "\n",
    "\n",
    "profit_rate_55to59 = (sum(df_corn_2555to2559['production_ton']) * 1000) * 50 * 0.5\n",
    "profit_rate_59to62 = (sum(df_corn_2560to2562['production_ton']) * 1000) * 120 * 0.3\n",
    "total_profit = profit_rate_55to59 + profit_rate_59to62\n",
    "\n",
    "print(f\"Total profit of ข้าวโพดฝักอ่อน from 2555 to 2562 is {total_profit} THB\")"
   ]
  },
  {
   "cell_type": "markdown",
   "metadata": {},
   "source": [
    "### Question 4\n",
    "\n",
    "Form question 3, display the dataframe with 'year', 'production_ton', 'income', 'profit_thb' column\n"
   ]
  },
  {
   "cell_type": "code",
   "execution_count": null,
   "metadata": {},
   "outputs": [
    {
     "name": "stdout",
     "output_type": "stream",
     "text": [
      "       year  production_ton        income   profit_thb\n",
      "11690  2555         24741.0  1.237050e+09  618525000.0\n",
      "11691  2556         25371.0  1.268550e+09  634275000.0\n",
      "11692  2557         21788.0  1.089400e+09  544700000.0\n",
      "11693  2558         20499.0  1.024950e+09  512475000.0\n",
      "11694  2559         19332.0  9.666000e+08  483300000.0\n",
      "11695  2560         21329.0  2.559480e+09  767844000.0\n",
      "11696  2561         21757.0  2.610840e+09  783252000.0\n",
      "11697  2562         20349.0  2.441880e+09  732564000.0\n"
     ]
    }
   ],
   "source": [
    "# filtered only ภาคเหนือ already\n",
    "\n",
    "df_corn_2555to2559 = df_corn_2555to2559.assign(\n",
    "    income=df_corn_2555to2559['production_ton'] * 1000 * 50,\n",
    "    profit_thb=(df_corn_2555to2559['production_ton'] * 1000 * 50 * 0.5)\n",
    ")\n",
    "df_corn_2560to2562 = df_corn_2560to2562.assign(\n",
    "    income=df_corn_2560to2562['production_ton'] * 1000 * 120,\n",
    "    profit_thb=(df_corn_2560to2562['production_ton'] * 1000 * 120 * 0.3)\n",
    ")\n",
    "\n",
    "\n",
    "df_result = pd.concat([df_corn_2555to2559, df_corn_2560to2562])\n",
    "df_result = df_result[['year', 'production_ton', 'income', 'profit_thb']]\n",
    "\n",
    "print(df_result)"
   ]
  },
  {
   "cell_type": "markdown",
   "metadata": {},
   "source": [
    "### Question 5\n",
    "\n",
    "We plan to invest in growing soybeans (ถั่วเหลือง) which province should we invest.\n",
    "\n",
    "We looking for\n",
    "- high protential area (high havest_rate)\n",
    "- we want market share only 20% but production_ton should be more than 2000 in the past (2550 - 2562)\n",
    "\n"
   ]
  },
  {
   "cell_type": "code",
   "execution_count": 99,
   "metadata": {},
   "outputs": [
    {
     "name": "stdout",
     "output_type": "stream",
     "text": [
      "      province  total_production  average_harvest_rate  market_share\n",
      "31        แพร่        124649.000              0.994117      9.038104\n",
      "32  แม่ฮ่องสอน        216298.000              0.991509     15.683429\n",
      "5   ฉะเชิงเทรา          8038.000              0.990072      0.582823\n",
      "17       ลำพูน          3471.967              0.989412      0.251747\n",
      "27    เชียงราย         68852.000              0.988140      4.992351\n",
      "29   เพชรบูรณ์          8959.000              0.984938      0.649603\n",
      "28   เชียงใหม่        180564.000              0.984715     13.092413\n",
      "9         น่าน         61758.000              0.981751      4.477976\n",
      "7          ตาก         71097.000              0.981378      5.155132\n",
      "4     จันทบุรี          3953.000              0.980721      0.286626\n",
      "Top 3 provinces that we should invest in growing soybeans are แพร่, แม่ฮ่องสอน, ฉะเชิงเทรา.\n"
     ]
    }
   ],
   "source": [
    "# Write you code and display question 5 result here.\n",
    "\n",
    "# Assume that \"invest in growing\" means \"which province (that already grown soybean) should we invest\" not \"which province from whole country should we invest\"\n",
    "\n",
    "\n",
    "df_soybean = df.loc[(df['product'] == 'ถั่วเหลือง') & \n",
    "                    (df['year'] >= 2550) & (df['year'] <= 2562) & \n",
    "                    ~df['province'].isin(['ทั้งประเทศ', 'ภาคเหนือ', 'ภาคตะวันออกเฉียงเหนือ', 'ภาคกลาง', 'ภาคใต้'])].copy()\n",
    "df_soybean['harvest_rate'] = df_soybean['area_harvest_rai'] / df_soybean['area_plant_rai']\n",
    "\n",
    "province_summary = df_soybean.groupby('province').agg(\n",
    "    total_production=('production_ton', 'sum'),\n",
    "    average_harvest_rate=('harvest_rate', 'mean')\n",
    ").reset_index()\n",
    "\n",
    "total_production_all = df_soybean['production_ton'].sum()\n",
    "province_summary['market_share'] = (province_summary['total_production'] / total_production_all) * 100\n",
    "filtered_provinces = province_summary[(province_summary['total_production'] > 2000) & (province_summary['market_share'] <= 20)] # filter\n",
    "\n",
    "filtered_provinces = filtered_provinces.sort_values(by='average_harvest_rate', ascending=False)\n",
    "print(filtered_provinces.head(10))\n",
    "\n",
    "\n",
    "\n",
    "\n",
    "\n",
    "\n",
    "top_3_provinces = filtered_provinces.sort_values(by='average_harvest_rate', ascending=False).head(3)\n",
    "top_3_names = ', '.join(top_3_provinces['province'])\n",
    "print(f\"Top 3 provinces that we should invest in growing soybeans are {top_3_names}.\")"
   ]
  }
 ],
 "metadata": {
  "kernelspec": {
   "display_name": "base",
   "language": "python",
   "name": "python3"
  },
  "language_info": {
   "codemirror_mode": {
    "name": "ipython",
    "version": 3
   },
   "file_extension": ".py",
   "mimetype": "text/x-python",
   "name": "python",
   "nbconvert_exporter": "python",
   "pygments_lexer": "ipython3",
   "version": "3.11.10"
  }
 },
 "nbformat": 4,
 "nbformat_minor": 2
}
