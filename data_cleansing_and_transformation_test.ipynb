{
 "cells": [
  {
   "cell_type": "markdown",
   "metadata": {},
   "source": [
    "# Data Cleaning and Transformation Test\n",
    "\n",
    "Use file `./ref/sample_user_data.csv` for input\n",
    "\n",
    "Use `pandas` lib or other lib if you want\n",
    "\n",
    "Write your code and display the result in specific cell"
   ]
  },
  {
   "cell_type": "code",
   "execution_count": 1,
   "metadata": {},
   "outputs": [],
   "source": [
    "import pandas as pd\n",
    "import matplotlib.pyplot as plt\n",
    "import seaborn as sns\n",
    "import warnings\n",
    "warnings.filterwarnings(\"ignore\")"
   ]
  },
  {
   "cell_type": "code",
   "execution_count": 2,
   "metadata": {},
   "outputs": [
    {
     "name": "stdout",
     "output_type": "stream",
     "text": [
      "<class 'pandas.core.frame.DataFrame'>\n",
      "RangeIndex: 29 entries, 0 to 28\n",
      "Data columns (total 5 columns):\n",
      " #   Column     Non-Null Count  Dtype  \n",
      "---  ------     --------------  -----  \n",
      " 0   user_id    29 non-null     int64  \n",
      " 1   name       29 non-null     object \n",
      " 2   age        26 non-null     float64\n",
      " 3   join_date  27 non-null     object \n",
      " 4   salary     29 non-null     object \n",
      "dtypes: float64(1), int64(1), object(3)\n",
      "memory usage: 1.3+ KB\n"
     ]
    },
    {
     "data": {
      "text/html": [
       "<div>\n",
       "<style scoped>\n",
       "    .dataframe tbody tr th:only-of-type {\n",
       "        vertical-align: middle;\n",
       "    }\n",
       "\n",
       "    .dataframe tbody tr th {\n",
       "        vertical-align: top;\n",
       "    }\n",
       "\n",
       "    .dataframe thead th {\n",
       "        text-align: right;\n",
       "    }\n",
       "</style>\n",
       "<table border=\"1\" class=\"dataframe\">\n",
       "  <thead>\n",
       "    <tr style=\"text-align: right;\">\n",
       "      <th></th>\n",
       "      <th>user_id</th>\n",
       "      <th>name</th>\n",
       "      <th>age</th>\n",
       "      <th>join_date</th>\n",
       "      <th>salary</th>\n",
       "    </tr>\n",
       "  </thead>\n",
       "  <tbody>\n",
       "    <tr>\n",
       "      <th>0</th>\n",
       "      <td>1</td>\n",
       "      <td>John</td>\n",
       "      <td>28.0</td>\n",
       "      <td>2023-02-01</td>\n",
       "      <td>50000</td>\n",
       "    </tr>\n",
       "    <tr>\n",
       "      <th>1</th>\n",
       "      <td>2</td>\n",
       "      <td>Alice</td>\n",
       "      <td>NaN</td>\n",
       "      <td>2023-02-02</td>\n",
       "      <td>52000</td>\n",
       "    </tr>\n",
       "    <tr>\n",
       "      <th>2</th>\n",
       "      <td>3</td>\n",
       "      <td>Bob</td>\n",
       "      <td>34.0</td>\n",
       "      <td>02/03/2023</td>\n",
       "      <td>49000</td>\n",
       "    </tr>\n",
       "    <tr>\n",
       "      <th>3</th>\n",
       "      <td>3</td>\n",
       "      <td>Bob</td>\n",
       "      <td>34.0</td>\n",
       "      <td>2023-03-02</td>\n",
       "      <td>49000</td>\n",
       "    </tr>\n",
       "    <tr>\n",
       "      <th>4</th>\n",
       "      <td>4</td>\n",
       "      <td>Emma</td>\n",
       "      <td>45.0</td>\n",
       "      <td>NaN</td>\n",
       "      <td>47000</td>\n",
       "    </tr>\n",
       "    <tr>\n",
       "      <th>5</th>\n",
       "      <td>5</td>\n",
       "      <td>Grek</td>\n",
       "      <td>32.0</td>\n",
       "      <td>NaN</td>\n",
       "      <td>23000.32</td>\n",
       "    </tr>\n",
       "    <tr>\n",
       "      <th>6</th>\n",
       "      <td>6</td>\n",
       "      <td>allen</td>\n",
       "      <td>26.0</td>\n",
       "      <td>2023-09-23</td>\n",
       "      <td>30000</td>\n",
       "    </tr>\n",
       "    <tr>\n",
       "      <th>7</th>\n",
       "      <td>7</td>\n",
       "      <td>Allen</td>\n",
       "      <td>26.0</td>\n",
       "      <td>2023-09-23</td>\n",
       "      <td>30000</td>\n",
       "    </tr>\n",
       "    <tr>\n",
       "      <th>8</th>\n",
       "      <td>8</td>\n",
       "      <td>chris</td>\n",
       "      <td>28.0</td>\n",
       "      <td>2020-11-13</td>\n",
       "      <td>35,000.25</td>\n",
       "    </tr>\n",
       "    <tr>\n",
       "      <th>9</th>\n",
       "      <td>9</td>\n",
       "      <td>Bob</td>\n",
       "      <td>33.0</td>\n",
       "      <td>2023-04-02</td>\n",
       "      <td>49000</td>\n",
       "    </tr>\n",
       "    <tr>\n",
       "      <th>10</th>\n",
       "      <td>10</td>\n",
       "      <td>Bobb</td>\n",
       "      <td>34.0</td>\n",
       "      <td>2023-03-01</td>\n",
       "      <td>49000</td>\n",
       "    </tr>\n",
       "    <tr>\n",
       "      <th>11</th>\n",
       "      <td>9</td>\n",
       "      <td>Bob</td>\n",
       "      <td>33.0</td>\n",
       "      <td>2023-04-02</td>\n",
       "      <td>49000</td>\n",
       "    </tr>\n",
       "    <tr>\n",
       "      <th>12</th>\n",
       "      <td>12</td>\n",
       "      <td>Bobby</td>\n",
       "      <td>34.0</td>\n",
       "      <td>2023-03-01</td>\n",
       "      <td>49000</td>\n",
       "    </tr>\n",
       "    <tr>\n",
       "      <th>13</th>\n",
       "      <td>13</td>\n",
       "      <td>Bab</td>\n",
       "      <td>39.0</td>\n",
       "      <td>2023-02-02</td>\n",
       "      <td>49000</td>\n",
       "    </tr>\n",
       "    <tr>\n",
       "      <th>14</th>\n",
       "      <td>3</td>\n",
       "      <td>Bob</td>\n",
       "      <td>34.0</td>\n",
       "      <td>2023-03-02</td>\n",
       "      <td>49000</td>\n",
       "    </tr>\n",
       "    <tr>\n",
       "      <th>15</th>\n",
       "      <td>15</td>\n",
       "      <td>Bob</td>\n",
       "      <td>39.0</td>\n",
       "      <td>2024-03-02</td>\n",
       "      <td>69000</td>\n",
       "    </tr>\n",
       "    <tr>\n",
       "      <th>16</th>\n",
       "      <td>16</td>\n",
       "      <td>Toby</td>\n",
       "      <td>34.0</td>\n",
       "      <td>2023-03-02</td>\n",
       "      <td>49000</td>\n",
       "    </tr>\n",
       "    <tr>\n",
       "      <th>17</th>\n",
       "      <td>17</td>\n",
       "      <td>Eggy</td>\n",
       "      <td>36.0</td>\n",
       "      <td>2023-12-16</td>\n",
       "      <td>58000</td>\n",
       "    </tr>\n",
       "    <tr>\n",
       "      <th>18</th>\n",
       "      <td>13</td>\n",
       "      <td>Bab</td>\n",
       "      <td>39.0</td>\n",
       "      <td>2023-02-02</td>\n",
       "      <td>49000</td>\n",
       "    </tr>\n",
       "    <tr>\n",
       "      <th>19</th>\n",
       "      <td>18</td>\n",
       "      <td>Emma</td>\n",
       "      <td>22.0</td>\n",
       "      <td>2023-03-02</td>\n",
       "      <td>22,000</td>\n",
       "    </tr>\n",
       "    <tr>\n",
       "      <th>20</th>\n",
       "      <td>17</td>\n",
       "      <td>Eggy</td>\n",
       "      <td>36.0</td>\n",
       "      <td>2023-12-16</td>\n",
       "      <td>58000</td>\n",
       "    </tr>\n",
       "    <tr>\n",
       "      <th>21</th>\n",
       "      <td>9</td>\n",
       "      <td>Bob</td>\n",
       "      <td>33.0</td>\n",
       "      <td>2023-04-02</td>\n",
       "      <td>49000</td>\n",
       "    </tr>\n",
       "    <tr>\n",
       "      <th>22</th>\n",
       "      <td>19</td>\n",
       "      <td>BOB</td>\n",
       "      <td>NaN</td>\n",
       "      <td>2023-04-02</td>\n",
       "      <td>100000</td>\n",
       "    </tr>\n",
       "    <tr>\n",
       "      <th>23</th>\n",
       "      <td>20</td>\n",
       "      <td>muller</td>\n",
       "      <td>NaN</td>\n",
       "      <td>2023-04-15</td>\n",
       "      <td>100000</td>\n",
       "    </tr>\n",
       "    <tr>\n",
       "      <th>24</th>\n",
       "      <td>21</td>\n",
       "      <td>MIke</td>\n",
       "      <td>54.0</td>\n",
       "      <td>2022-03-15</td>\n",
       "      <td>120000</td>\n",
       "    </tr>\n",
       "    <tr>\n",
       "      <th>25</th>\n",
       "      <td>22</td>\n",
       "      <td>Toby</td>\n",
       "      <td>134.0</td>\n",
       "      <td>2023-03-02</td>\n",
       "      <td>149000</td>\n",
       "    </tr>\n",
       "    <tr>\n",
       "      <th>26</th>\n",
       "      <td>23</td>\n",
       "      <td>Vin</td>\n",
       "      <td>40.0</td>\n",
       "      <td>2223-03-02</td>\n",
       "      <td>148000</td>\n",
       "    </tr>\n",
       "    <tr>\n",
       "      <th>27</th>\n",
       "      <td>24</td>\n",
       "      <td>Gin</td>\n",
       "      <td>940.0</td>\n",
       "      <td>2003-03-02</td>\n",
       "      <td>149000</td>\n",
       "    </tr>\n",
       "    <tr>\n",
       "      <th>28</th>\n",
       "      <td>25</td>\n",
       "      <td>james</td>\n",
       "      <td>60.0</td>\n",
       "      <td>2043-03-02</td>\n",
       "      <td>169000</td>\n",
       "    </tr>\n",
       "  </tbody>\n",
       "</table>\n",
       "</div>"
      ],
      "text/plain": [
       "    user_id    name    age   join_date     salary\n",
       "0         1    John   28.0  2023-02-01      50000\n",
       "1         2   Alice    NaN  2023-02-02      52000\n",
       "2         3     Bob   34.0  02/03/2023      49000\n",
       "3         3     Bob   34.0  2023-03-02      49000\n",
       "4         4    Emma   45.0         NaN      47000\n",
       "5         5    Grek   32.0         NaN   23000.32\n",
       "6         6   allen   26.0  2023-09-23      30000\n",
       "7         7   Allen   26.0  2023-09-23      30000\n",
       "8         8   chris   28.0  2020-11-13  35,000.25\n",
       "9         9     Bob   33.0  2023-04-02      49000\n",
       "10       10    Bobb   34.0  2023-03-01      49000\n",
       "11        9     Bob   33.0  2023-04-02      49000\n",
       "12       12   Bobby   34.0  2023-03-01      49000\n",
       "13       13     Bab   39.0  2023-02-02      49000\n",
       "14        3     Bob   34.0  2023-03-02      49000\n",
       "15       15     Bob   39.0  2024-03-02      69000\n",
       "16       16    Toby   34.0  2023-03-02      49000\n",
       "17       17    Eggy   36.0  2023-12-16      58000\n",
       "18       13     Bab   39.0  2023-02-02      49000\n",
       "19       18    Emma   22.0  2023-03-02     22,000\n",
       "20       17    Eggy   36.0  2023-12-16      58000\n",
       "21        9     Bob   33.0  2023-04-02      49000\n",
       "22       19     BOB    NaN  2023-04-02     100000\n",
       "23       20  muller    NaN  2023-04-15     100000\n",
       "24       21    MIke   54.0  2022-03-15     120000\n",
       "25       22    Toby  134.0  2023-03-02     149000\n",
       "26       23     Vin   40.0  2223-03-02     148000\n",
       "27       24     Gin  940.0  2003-03-02     149000\n",
       "28       25   james   60.0  2043-03-02     169000"
      ]
     },
     "execution_count": 2,
     "metadata": {},
     "output_type": "execute_result"
    }
   ],
   "source": [
    "# read csv file\n",
    "\n",
    "df = pd.read_csv(\"./ref/sample_user_data.csv\")\n",
    "df.info()\n",
    "df"
   ]
  },
  {
   "cell_type": "markdown",
   "metadata": {},
   "source": [
    "### Question 1\n",
    "There're data quality issues, such as outliers, null values, and incorrect data types.  \n",
    "\n",
    "1. Validate fields.\n",
    "2. Clean data by handling missing values.\n",
    "3. Deduplicate record (if any).\n",
    "4. Standardize any inconsistent data (e.g., date formats).\n",
    "\n",
    "\n",
    "There're several conditions,\n",
    "1.  Replace NaN in age value with \"-\"\n",
    "2.  Format join_date to date type.\n",
    "    -   YYYY-MM-DD i.e. 2024-11-03\n",
    "    -   DD/MM/YYYY i.e. 03/12/2023\n",
    "    -   remove NaN value\n",
    "3. Name should be captitalized.\n",
    "\n",
    "\n",
    "\n",
    "#### Example Data Quality Checks:\n",
    "- Identify outliers in numerical fields (e.g., ages > 100).\n",
    "- Ensure no future dates in a date column.\n",
    "- user_id not be empty\n",
    "\n",
    "\n"
   ]
  },
  {
   "cell_type": "code",
   "execution_count": 3,
   "metadata": {},
   "outputs": [
    {
     "data": {
      "text/plain": [
       "Index(['user_id', 'name', 'age', 'join_date', 'salary'], dtype='object')"
      ]
     },
     "execution_count": 3,
     "metadata": {},
     "output_type": "execute_result"
    }
   ],
   "source": [
    "# Write you code and display question 1 result here.\n",
    "df.columns"
   ]
  },
  {
   "cell_type": "code",
   "execution_count": 4,
   "metadata": {},
   "outputs": [
    {
     "data": {
      "text/html": [
       "<div>\n",
       "<style scoped>\n",
       "    .dataframe tbody tr th:only-of-type {\n",
       "        vertical-align: middle;\n",
       "    }\n",
       "\n",
       "    .dataframe tbody tr th {\n",
       "        vertical-align: top;\n",
       "    }\n",
       "\n",
       "    .dataframe thead th {\n",
       "        text-align: right;\n",
       "    }\n",
       "</style>\n",
       "<table border=\"1\" class=\"dataframe\">\n",
       "  <thead>\n",
       "    <tr style=\"text-align: right;\">\n",
       "      <th></th>\n",
       "      <th>user_id</th>\n",
       "      <th>age</th>\n",
       "    </tr>\n",
       "  </thead>\n",
       "  <tbody>\n",
       "    <tr>\n",
       "      <th>count</th>\n",
       "      <td>29.000000</td>\n",
       "      <td>26.000000</td>\n",
       "    </tr>\n",
       "    <tr>\n",
       "      <th>mean</th>\n",
       "      <td>12.206897</td>\n",
       "      <td>74.115385</td>\n",
       "    </tr>\n",
       "    <tr>\n",
       "      <th>std</th>\n",
       "      <td>7.379408</td>\n",
       "      <td>177.838427</td>\n",
       "    </tr>\n",
       "    <tr>\n",
       "      <th>min</th>\n",
       "      <td>1.000000</td>\n",
       "      <td>22.000000</td>\n",
       "    </tr>\n",
       "    <tr>\n",
       "      <th>25%</th>\n",
       "      <td>6.000000</td>\n",
       "      <td>33.000000</td>\n",
       "    </tr>\n",
       "    <tr>\n",
       "      <th>50%</th>\n",
       "      <td>12.000000</td>\n",
       "      <td>34.000000</td>\n",
       "    </tr>\n",
       "    <tr>\n",
       "      <th>75%</th>\n",
       "      <td>18.000000</td>\n",
       "      <td>39.000000</td>\n",
       "    </tr>\n",
       "    <tr>\n",
       "      <th>max</th>\n",
       "      <td>25.000000</td>\n",
       "      <td>940.000000</td>\n",
       "    </tr>\n",
       "  </tbody>\n",
       "</table>\n",
       "</div>"
      ],
      "text/plain": [
       "         user_id         age\n",
       "count  29.000000   26.000000\n",
       "mean   12.206897   74.115385\n",
       "std     7.379408  177.838427\n",
       "min     1.000000   22.000000\n",
       "25%     6.000000   33.000000\n",
       "50%    12.000000   34.000000\n",
       "75%    18.000000   39.000000\n",
       "max    25.000000  940.000000"
      ]
     },
     "execution_count": 4,
     "metadata": {},
     "output_type": "execute_result"
    }
   ],
   "source": [
    "df.describe()"
   ]
  },
  {
   "cell_type": "code",
   "execution_count": 5,
   "metadata": {},
   "outputs": [
    {
     "name": "stdout",
     "output_type": "stream",
     "text": [
      "<class 'pandas.core.frame.DataFrame'>\n",
      "RangeIndex: 29 entries, 0 to 28\n",
      "Data columns (total 5 columns):\n",
      " #   Column     Non-Null Count  Dtype  \n",
      "---  ------     --------------  -----  \n",
      " 0   user_id    29 non-null     int64  \n",
      " 1   name       29 non-null     object \n",
      " 2   age        26 non-null     float64\n",
      " 3   join_date  27 non-null     object \n",
      " 4   salary     29 non-null     object \n",
      "dtypes: float64(1), int64(1), object(3)\n",
      "memory usage: 1.3+ KB\n"
     ]
    }
   ],
   "source": [
    "df.info()"
   ]
  },
  {
   "cell_type": "code",
   "execution_count": 6,
   "metadata": {},
   "outputs": [
    {
     "name": "stdout",
     "output_type": "stream",
     "text": [
      "There are 5 duplicated rows.\n"
     ]
    }
   ],
   "source": [
    "duplicated_rows = df[df.duplicated()]\n",
    "\n",
    "if not duplicated_rows.empty:\n",
    "    print(f\"There are {len(duplicated_rows)} duplicated rows.\")\n",
    "else:\n",
    "    print(\"No duplicated rows found.\")"
   ]
  },
  {
   "cell_type": "code",
   "execution_count": 7,
   "metadata": {},
   "outputs": [],
   "source": [
    "df = df.drop_duplicates(keep='first')"
   ]
  },
  {
   "cell_type": "markdown",
   "metadata": {},
   "source": [
    "Standardize \"name\""
   ]
  },
  {
   "cell_type": "code",
   "execution_count": 8,
   "metadata": {},
   "outputs": [
    {
     "data": {
      "text/plain": [
       "array(['John', 'Alice', 'Bob', 'Emma', 'Grek', 'allen', 'Allen', 'chris',\n",
       "       'Bobb', 'Bobby', 'Bab', 'Toby', 'Eggy', 'BOB', 'muller', 'MIke',\n",
       "       'Vin', 'Gin', 'james'], dtype=object)"
      ]
     },
     "execution_count": 8,
     "metadata": {},
     "output_type": "execute_result"
    }
   ],
   "source": [
    "df.name.unique()"
   ]
  },
  {
   "cell_type": "code",
   "execution_count": 9,
   "metadata": {},
   "outputs": [],
   "source": [
    "names = df['name']\n",
    "formatted_names = []\n",
    "\n",
    "for name in names:\n",
    "    name_formatted = name.lower().capitalize()\n",
    "    formatted_names.append(name_formatted)\n",
    "\n",
    "df.loc[:, 'name'] = formatted_names"
   ]
  },
  {
   "cell_type": "code",
   "execution_count": 10,
   "metadata": {},
   "outputs": [
    {
     "data": {
      "text/plain": [
       "array(['John', 'Alice', 'Bob', 'Emma', 'Grek', 'Allen', 'Chris', 'Bobb',\n",
       "       'Bobby', 'Bab', 'Toby', 'Eggy', 'Muller', 'Mike', 'Vin', 'Gin',\n",
       "       'James'], dtype=object)"
      ]
     },
     "execution_count": 10,
     "metadata": {},
     "output_type": "execute_result"
    }
   ],
   "source": [
    "df.name.unique()"
   ]
  },
  {
   "cell_type": "markdown",
   "metadata": {},
   "source": [
    "join_date format"
   ]
  },
  {
   "cell_type": "code",
   "execution_count": 11,
   "metadata": {},
   "outputs": [
    {
     "data": {
      "text/plain": [
       "array(['2023-02-01', '2023-02-02', '02/03/2023', '2023-03-02', nan,\n",
       "       '2023-09-23', '2020-11-13', '2023-04-02', '2023-03-01',\n",
       "       '2024-03-02', '2023-12-16', '2023-04-15', '2022-03-15',\n",
       "       '2223-03-02', '2003-03-02', '2043-03-02'], dtype=object)"
      ]
     },
     "execution_count": 11,
     "metadata": {},
     "output_type": "execute_result"
    }
   ],
   "source": [
    "df.join_date.unique()"
   ]
  },
  {
   "cell_type": "code",
   "execution_count": 12,
   "metadata": {},
   "outputs": [
    {
     "name": "stdout",
     "output_type": "stream",
     "text": [
      "Unique join_date formats:\n",
      "join_date_format\n",
      "YYYY-MM-DD    21\n",
      "NaN            2\n",
      "DD/MM/YYYY     1\n",
      "Name: count, dtype: int64\n"
     ]
    }
   ],
   "source": [
    "def identify_format(date):\n",
    "    if pd.isna(date):\n",
    "        return \"NaN\"\n",
    "    elif isinstance(date, str):\n",
    "        if '-' in date and len(date.split('-')[0]) == 4:\n",
    "            return \"YYYY-MM-DD\"\n",
    "        elif '/' in date and len(date.split('/')[-1]) == 4:\n",
    "            return \"DD/MM/YYYY\"\n",
    "    return \"Other\"\n",
    "\n",
    "df.loc[:, 'join_date_format'] = df['join_date'].apply(identify_format)\n",
    "\n",
    "format_counts = df['join_date_format'].value_counts()\n",
    "\n",
    "print(\"Unique join_date formats:\")\n",
    "print(format_counts)"
   ]
  },
  {
   "cell_type": "code",
   "execution_count": 13,
   "metadata": {},
   "outputs": [
    {
     "name": "stdout",
     "output_type": "stream",
     "text": [
      "0     2023-02-01\n",
      "1     2023-02-02\n",
      "2     2023-03-02\n",
      "3     2023-03-02\n",
      "4            NaN\n",
      "5            NaN\n",
      "6     2023-09-23\n",
      "7     2023-09-23\n",
      "8     2020-11-13\n",
      "9     2023-04-02\n",
      "10    2023-03-01\n",
      "12    2023-03-01\n",
      "13    2023-02-02\n",
      "15    2024-03-02\n",
      "16    2023-03-02\n",
      "17    2023-12-16\n",
      "19    2023-03-02\n",
      "22    2023-04-02\n",
      "23    2023-04-15\n",
      "24    2022-03-15\n",
      "25    2023-03-02\n",
      "26    2223-03-02\n",
      "27    2003-03-02\n",
      "28    2043-03-02\n",
      "Name: join_date, dtype: object\n"
     ]
    }
   ],
   "source": [
    "# change DD/MM/YYYY to YYYY-MM-DD\n",
    "def convert_to_iso_format(date):\n",
    "    if isinstance(date, str) and '/' in date and len(date.split('/')[-1]) == 4:\n",
    "        try:\n",
    "            day, month, year = date.split('/')\n",
    "            return f\"{year}-{month.zfill(2)}-{day.zfill(2)}\"\n",
    "        except ValueError:\n",
    "            return date\n",
    "    return date\n",
    "\n",
    "df.loc[:, 'join_date'] = df['join_date'].apply(convert_to_iso_format)\n",
    "\n",
    "print(df['join_date'])"
   ]
  },
  {
   "cell_type": "code",
   "execution_count": 14,
   "metadata": {},
   "outputs": [
    {
     "data": {
      "text/plain": [
       "array(['2023-02-01', '2023-02-02', '2023-03-02', nan, '2023-09-23',\n",
       "       '2020-11-13', '2023-04-02', '2023-03-01', '2024-03-02',\n",
       "       '2023-12-16', '2023-04-15', '2022-03-15', '2223-03-02',\n",
       "       '2003-03-02', '2043-03-02'], dtype=object)"
      ]
     },
     "execution_count": 14,
     "metadata": {},
     "output_type": "execute_result"
    }
   ],
   "source": [
    "df.join_date.unique()"
   ]
  },
  {
   "cell_type": "code",
   "execution_count": 15,
   "metadata": {},
   "outputs": [],
   "source": [
    "df['join_date'] = df['join_date'].replace({'2043-03-02': '2023-03-02', '2223-03-02': '2023-03-02'})"
   ]
  },
  {
   "cell_type": "code",
   "execution_count": 16,
   "metadata": {},
   "outputs": [
    {
     "data": {
      "text/plain": [
       "array(['2023-02-01', '2023-02-02', '2023-03-02', nan, '2023-09-23',\n",
       "       '2020-11-13', '2023-04-02', '2023-03-01', '2024-03-02',\n",
       "       '2023-12-16', '2023-04-15', '2022-03-15', '2003-03-02'],\n",
       "      dtype=object)"
      ]
     },
     "execution_count": 16,
     "metadata": {},
     "output_type": "execute_result"
    }
   ],
   "source": [
    "df.join_date.unique()"
   ]
  },
  {
   "cell_type": "code",
   "execution_count": 17,
   "metadata": {},
   "outputs": [],
   "source": [
    "# for NaN join_date, we have to check if there are same \"name\" and same \"age\" appeared in df\n",
    "## if any, replaced NaN with that join_date. but now there are not...\n",
    "\n",
    "### since most people have join_date in about 2023 Q1, we impute NaN by 2023-02-15 (middle of Q1)\n",
    "df.loc[df['join_date'].isna(), 'join_date'] = '2023-02-15'"
   ]
  },
  {
   "cell_type": "code",
   "execution_count": 18,
   "metadata": {},
   "outputs": [],
   "source": [
    "df.drop('join_date_format', axis=1, inplace=True)"
   ]
  },
  {
   "cell_type": "markdown",
   "metadata": {},
   "source": [
    "Handling Age"
   ]
  },
  {
   "cell_type": "code",
   "execution_count": null,
   "metadata": {},
   "outputs": [],
   "source": [
    "# Handle NaN values in the 'age' column\n",
    "## since we still have duplicated rows, we handled NaN age by\n",
    "## for each row that has NaN age, if there are row that shared same user_id, join_date, or salary -> we assume that they are same people -> replace NaN age with known age\n",
    "\n",
    "def handle_nan_age(row):\n",
    "    if pd.isna(row['age']):\n",
    "        same_name_rows = df[df['name'] == row['name']]\n",
    "\n",
    "        match = same_name_rows[\n",
    "            (same_name_rows['join_date'] == row['join_date']) |\n",
    "            (same_name_rows['user_id'] == row['user_id']) |\n",
    "            (same_name_rows['salary'] == row['salary'])\n",
    "        ]\n",
    "        \n",
    "        if not match.empty:\n",
    "            matched_age = match['age'].dropna()\n",
    "            if not matched_age.empty:\n",
    "                return matched_age.iloc[0]\n",
    "        \n",
    "        return df['age'].median()\n",
    "    else:\n",
    "        return row['age']\n",
    "\n",
    "\n",
    "df['age'] = df.apply(handle_nan_age, axis=1)"
   ]
  },
  {
   "cell_type": "code",
   "execution_count": 20,
   "metadata": {},
   "outputs": [
    {
     "name": "stdout",
     "output_type": "stream",
     "text": [
      "count    24.000000\n",
      "mean     35.291667\n",
      "std       8.332645\n",
      "min      22.000000\n",
      "25%      32.750000\n",
      "50%      34.000000\n",
      "75%      36.750000\n",
      "max      60.000000\n",
      "Name: age, dtype: float64\n",
      "Unique ages after handling: [28. 34. 45. 32. 26. 33. 39. 36. 22. 54. 40. 60.]\n"
     ]
    }
   ],
   "source": [
    "# replace outlier age with med age\n",
    "median_age = df['age'].median()\n",
    "\n",
    "# Define reasonable age range\n",
    "valid_age_range = (15, 100)\n",
    "\n",
    "df.loc[~df['age'].between(*valid_age_range), 'age'] = median_age\n",
    "\n",
    "print(df['age'].describe())\n",
    "print(\"Unique ages after handling:\", df['age'].unique())"
   ]
  },
  {
   "cell_type": "markdown",
   "metadata": {},
   "source": [
    "Handle salary"
   ]
  },
  {
   "cell_type": "code",
   "execution_count": 21,
   "metadata": {},
   "outputs": [],
   "source": [
    "# format\n",
    "df['salary'] = pd.to_numeric(df['salary'].replace(',', '', regex=True), errors='coerce')\n",
    "df['salary'] = df['salary'].round(2)"
   ]
  },
  {
   "cell_type": "code",
   "execution_count": 22,
   "metadata": {},
   "outputs": [],
   "source": [
    "df = df.drop_duplicates(keep='first')"
   ]
  },
  {
   "cell_type": "code",
   "execution_count": 24,
   "metadata": {},
   "outputs": [],
   "source": [
    "# typically we need to analyse if there are same person in data such as | is Bob is all \"Bob\" or they are diff person | Bob ? Bobb? Bobby? Bab(typo?)?\n",
    "## instances that have same values should consider as same person, but in this context, I intended to keep them since we may have to use \"user_id\" data in further analyse "
   ]
  },
  {
   "cell_type": "code",
   "execution_count": 31,
   "metadata": {},
   "outputs": [],
   "source": [
    "Q1_df = df"
   ]
  },
  {
   "cell_type": "code",
   "execution_count": 33,
   "metadata": {},
   "outputs": [
    {
     "name": "stdout",
     "output_type": "stream",
     "text": [
      "    user_id    name   age  join_date     salary\n",
      "0         1    John  28.0 2023-02-01   50000.00\n",
      "1         2   Alice  34.0 2023-02-02   52000.00\n",
      "2         3     Bob  34.0 2023-03-02   49000.00\n",
      "4         4    Emma  45.0 2023-02-15   47000.00\n",
      "5         5    Grek  32.0 2023-02-15   23000.32\n",
      "6         6   Allen  26.0 2023-09-23   30000.00\n",
      "7         7   Allen  26.0 2023-09-23   30000.00\n",
      "8         8   Chris  28.0 2020-11-13   35000.25\n",
      "9         9     Bob  33.0 2023-04-02   49000.00\n",
      "10       10    Bobb  34.0 2023-03-01   49000.00\n",
      "12       12   Bobby  34.0 2023-03-01   49000.00\n",
      "13       13     Bab  39.0 2023-02-02   49000.00\n",
      "15       15     Bob  39.0 2024-03-02   69000.00\n",
      "16       16    Toby  34.0 2023-03-02   49000.00\n",
      "17       17    Eggy  36.0 2023-12-16   58000.00\n",
      "19       18    Emma  22.0 2023-03-02   22000.00\n",
      "22       19     Bob  33.0 2023-04-02  100000.00\n",
      "23       20  Muller  34.0 2023-04-15  100000.00\n",
      "24       21    Mike  54.0 2022-03-15  120000.00\n",
      "25       22    Toby  34.0 2023-03-02  149000.00\n",
      "26       23     Vin  40.0 2023-03-02  148000.00\n",
      "27       24     Gin  34.0 2003-03-02  149000.00\n",
      "28       25   James  60.0 2023-03-02  169000.00\n"
     ]
    }
   ],
   "source": [
    "print(Q1_df)"
   ]
  },
  {
   "cell_type": "markdown",
   "metadata": {},
   "source": [
    "### Question 2\n",
    "From question 1, display summary statistics on specific columns (mean, median, max, min, average)\n"
   ]
  },
  {
   "cell_type": "code",
   "execution_count": 25,
   "metadata": {},
   "outputs": [
    {
     "name": "stdout",
     "output_type": "stream",
     "text": [
      "              age         salary\n",
      "mean    35.347826   71521.763913\n",
      "median  34.000000   49000.000000\n",
      "max     60.000000  169000.000000\n",
      "min     22.000000   22000.000000\n"
     ]
    }
   ],
   "source": [
    "# Write you code and display question 2 result here.\n",
    "columns_to_summarize = ['age', 'salary']\n",
    "summary_stats = df[columns_to_summarize].agg(['mean', 'median', 'max', 'min'])\n",
    "\n",
    "print(summary_stats)"
   ]
  },
  {
   "cell_type": "code",
   "execution_count": 26,
   "metadata": {},
   "outputs": [
    {
     "data": {
      "image/png": "[encoded data removed]",
      "text/plain": [
       "<Figure size 1000x600 with 2 Axes>"
      ]
     },
     "metadata": {},
     "output_type": "display_data"
    }
   ],
   "source": [
    "df['join_date'] = pd.to_datetime(df['join_date'], errors='coerce')\n",
    "\n",
    "df['year'] = df['join_date'].dt.year\n",
    "df['month'] = df['join_date'].dt.month\n",
    "\n",
    "heatmap_data = df.pivot_table(index='year', columns='month', aggfunc='size', fill_value=0)\n",
    "\n",
    "plt.figure(figsize=(10, 6))\n",
    "sns.heatmap(heatmap_data, annot=True, fmt=\"d\", cmap=\"YlGnBu\", cbar=True)\n",
    "plt.title('join_date heatmap (Frequency)')\n",
    "plt.xlabel('Month')\n",
    "plt.ylabel('Year')\n",
    "plt.show()\n"
   ]
  },
  {
   "cell_type": "code",
   "execution_count": 27,
   "metadata": {},
   "outputs": [
    {
     "data": {
      "text/html": [
       "<div>\n",
       "<style scoped>\n",
       "    .dataframe tbody tr th:only-of-type {\n",
       "        vertical-align: middle;\n",
       "    }\n",
       "\n",
       "    .dataframe tbody tr th {\n",
       "        vertical-align: top;\n",
       "    }\n",
       "\n",
       "    .dataframe thead th {\n",
       "        text-align: right;\n",
       "    }\n",
       "</style>\n",
       "<table border=\"1\" class=\"dataframe\">\n",
       "  <thead>\n",
       "    <tr style=\"text-align: right;\">\n",
       "      <th></th>\n",
       "      <th>user_id</th>\n",
       "      <th>name</th>\n",
       "      <th>age</th>\n",
       "      <th>join_date</th>\n",
       "      <th>salary</th>\n",
       "      <th>year</th>\n",
       "      <th>month</th>\n",
       "    </tr>\n",
       "  </thead>\n",
       "  <tbody>\n",
       "    <tr>\n",
       "      <th>0</th>\n",
       "      <td>1</td>\n",
       "      <td>John</td>\n",
       "      <td>28.0</td>\n",
       "      <td>2023-02-01</td>\n",
       "      <td>50000.00</td>\n",
       "      <td>2023</td>\n",
       "      <td>2</td>\n",
       "    </tr>\n",
       "    <tr>\n",
       "      <th>1</th>\n",
       "      <td>2</td>\n",
       "      <td>Alice</td>\n",
       "      <td>34.0</td>\n",
       "      <td>2023-02-02</td>\n",
       "      <td>52000.00</td>\n",
       "      <td>2023</td>\n",
       "      <td>2</td>\n",
       "    </tr>\n",
       "    <tr>\n",
       "      <th>2</th>\n",
       "      <td>3</td>\n",
       "      <td>Bob</td>\n",
       "      <td>34.0</td>\n",
       "      <td>2023-03-02</td>\n",
       "      <td>49000.00</td>\n",
       "      <td>2023</td>\n",
       "      <td>3</td>\n",
       "    </tr>\n",
       "    <tr>\n",
       "      <th>4</th>\n",
       "      <td>4</td>\n",
       "      <td>Emma</td>\n",
       "      <td>45.0</td>\n",
       "      <td>2023-02-15</td>\n",
       "      <td>47000.00</td>\n",
       "      <td>2023</td>\n",
       "      <td>2</td>\n",
       "    </tr>\n",
       "    <tr>\n",
       "      <th>5</th>\n",
       "      <td>5</td>\n",
       "      <td>Grek</td>\n",
       "      <td>32.0</td>\n",
       "      <td>2023-02-15</td>\n",
       "      <td>23000.32</td>\n",
       "      <td>2023</td>\n",
       "      <td>2</td>\n",
       "    </tr>\n",
       "    <tr>\n",
       "      <th>6</th>\n",
       "      <td>6</td>\n",
       "      <td>Allen</td>\n",
       "      <td>26.0</td>\n",
       "      <td>2023-09-23</td>\n",
       "      <td>30000.00</td>\n",
       "      <td>2023</td>\n",
       "      <td>9</td>\n",
       "    </tr>\n",
       "    <tr>\n",
       "      <th>7</th>\n",
       "      <td>7</td>\n",
       "      <td>Allen</td>\n",
       "      <td>26.0</td>\n",
       "      <td>2023-09-23</td>\n",
       "      <td>30000.00</td>\n",
       "      <td>2023</td>\n",
       "      <td>9</td>\n",
       "    </tr>\n",
       "    <tr>\n",
       "      <th>8</th>\n",
       "      <td>8</td>\n",
       "      <td>Chris</td>\n",
       "      <td>28.0</td>\n",
       "      <td>2020-11-13</td>\n",
       "      <td>35000.25</td>\n",
       "      <td>2020</td>\n",
       "      <td>11</td>\n",
       "    </tr>\n",
       "    <tr>\n",
       "      <th>9</th>\n",
       "      <td>9</td>\n",
       "      <td>Bob</td>\n",
       "      <td>33.0</td>\n",
       "      <td>2023-04-02</td>\n",
       "      <td>49000.00</td>\n",
       "      <td>2023</td>\n",
       "      <td>4</td>\n",
       "    </tr>\n",
       "    <tr>\n",
       "      <th>10</th>\n",
       "      <td>10</td>\n",
       "      <td>Bobb</td>\n",
       "      <td>34.0</td>\n",
       "      <td>2023-03-01</td>\n",
       "      <td>49000.00</td>\n",
       "      <td>2023</td>\n",
       "      <td>3</td>\n",
       "    </tr>\n",
       "    <tr>\n",
       "      <th>12</th>\n",
       "      <td>12</td>\n",
       "      <td>Bobby</td>\n",
       "      <td>34.0</td>\n",
       "      <td>2023-03-01</td>\n",
       "      <td>49000.00</td>\n",
       "      <td>2023</td>\n",
       "      <td>3</td>\n",
       "    </tr>\n",
       "    <tr>\n",
       "      <th>13</th>\n",
       "      <td>13</td>\n",
       "      <td>Bab</td>\n",
       "      <td>39.0</td>\n",
       "      <td>2023-02-02</td>\n",
       "      <td>49000.00</td>\n",
       "      <td>2023</td>\n",
       "      <td>2</td>\n",
       "    </tr>\n",
       "    <tr>\n",
       "      <th>15</th>\n",
       "      <td>15</td>\n",
       "      <td>Bob</td>\n",
       "      <td>39.0</td>\n",
       "      <td>2024-03-02</td>\n",
       "      <td>69000.00</td>\n",
       "      <td>2024</td>\n",
       "      <td>3</td>\n",
       "    </tr>\n",
       "    <tr>\n",
       "      <th>16</th>\n",
       "      <td>16</td>\n",
       "      <td>Toby</td>\n",
       "      <td>34.0</td>\n",
       "      <td>2023-03-02</td>\n",
       "      <td>49000.00</td>\n",
       "      <td>2023</td>\n",
       "      <td>3</td>\n",
       "    </tr>\n",
       "    <tr>\n",
       "      <th>17</th>\n",
       "      <td>17</td>\n",
       "      <td>Eggy</td>\n",
       "      <td>36.0</td>\n",
       "      <td>2023-12-16</td>\n",
       "      <td>58000.00</td>\n",
       "      <td>2023</td>\n",
       "      <td>12</td>\n",
       "    </tr>\n",
       "    <tr>\n",
       "      <th>19</th>\n",
       "      <td>18</td>\n",
       "      <td>Emma</td>\n",
       "      <td>22.0</td>\n",
       "      <td>2023-03-02</td>\n",
       "      <td>22000.00</td>\n",
       "      <td>2023</td>\n",
       "      <td>3</td>\n",
       "    </tr>\n",
       "    <tr>\n",
       "      <th>22</th>\n",
       "      <td>19</td>\n",
       "      <td>Bob</td>\n",
       "      <td>33.0</td>\n",
       "      <td>2023-04-02</td>\n",
       "      <td>100000.00</td>\n",
       "      <td>2023</td>\n",
       "      <td>4</td>\n",
       "    </tr>\n",
       "    <tr>\n",
       "      <th>23</th>\n",
       "      <td>20</td>\n",
       "      <td>Muller</td>\n",
       "      <td>34.0</td>\n",
       "      <td>2023-04-15</td>\n",
       "      <td>100000.00</td>\n",
       "      <td>2023</td>\n",
       "      <td>4</td>\n",
       "    </tr>\n",
       "    <tr>\n",
       "      <th>24</th>\n",
       "      <td>21</td>\n",
       "      <td>Mike</td>\n",
       "      <td>54.0</td>\n",
       "      <td>2022-03-15</td>\n",
       "      <td>120000.00</td>\n",
       "      <td>2022</td>\n",
       "      <td>3</td>\n",
       "    </tr>\n",
       "    <tr>\n",
       "      <th>25</th>\n",
       "      <td>22</td>\n",
       "      <td>Toby</td>\n",
       "      <td>34.0</td>\n",
       "      <td>2023-03-02</td>\n",
       "      <td>149000.00</td>\n",
       "      <td>2023</td>\n",
       "      <td>3</td>\n",
       "    </tr>\n",
       "    <tr>\n",
       "      <th>26</th>\n",
       "      <td>23</td>\n",
       "      <td>Vin</td>\n",
       "      <td>40.0</td>\n",
       "      <td>2023-03-02</td>\n",
       "      <td>148000.00</td>\n",
       "      <td>2023</td>\n",
       "      <td>3</td>\n",
       "    </tr>\n",
       "    <tr>\n",
       "      <th>27</th>\n",
       "      <td>24</td>\n",
       "      <td>Gin</td>\n",
       "      <td>34.0</td>\n",
       "      <td>2003-03-02</td>\n",
       "      <td>149000.00</td>\n",
       "      <td>2003</td>\n",
       "      <td>3</td>\n",
       "    </tr>\n",
       "    <tr>\n",
       "      <th>28</th>\n",
       "      <td>25</td>\n",
       "      <td>James</td>\n",
       "      <td>60.0</td>\n",
       "      <td>2023-03-02</td>\n",
       "      <td>169000.00</td>\n",
       "      <td>2023</td>\n",
       "      <td>3</td>\n",
       "    </tr>\n",
       "  </tbody>\n",
       "</table>\n",
       "</div>"
      ],
      "text/plain": [
       "    user_id    name   age  join_date     salary  year  month\n",
       "0         1    John  28.0 2023-02-01   50000.00  2023      2\n",
       "1         2   Alice  34.0 2023-02-02   52000.00  2023      2\n",
       "2         3     Bob  34.0 2023-03-02   49000.00  2023      3\n",
       "4         4    Emma  45.0 2023-02-15   47000.00  2023      2\n",
       "5         5    Grek  32.0 2023-02-15   23000.32  2023      2\n",
       "6         6   Allen  26.0 2023-09-23   30000.00  2023      9\n",
       "7         7   Allen  26.0 2023-09-23   30000.00  2023      9\n",
       "8         8   Chris  28.0 2020-11-13   35000.25  2020     11\n",
       "9         9     Bob  33.0 2023-04-02   49000.00  2023      4\n",
       "10       10    Bobb  34.0 2023-03-01   49000.00  2023      3\n",
       "12       12   Bobby  34.0 2023-03-01   49000.00  2023      3\n",
       "13       13     Bab  39.0 2023-02-02   49000.00  2023      2\n",
       "15       15     Bob  39.0 2024-03-02   69000.00  2024      3\n",
       "16       16    Toby  34.0 2023-03-02   49000.00  2023      3\n",
       "17       17    Eggy  36.0 2023-12-16   58000.00  2023     12\n",
       "19       18    Emma  22.0 2023-03-02   22000.00  2023      3\n",
       "22       19     Bob  33.0 2023-04-02  100000.00  2023      4\n",
       "23       20  Muller  34.0 2023-04-15  100000.00  2023      4\n",
       "24       21    Mike  54.0 2022-03-15  120000.00  2022      3\n",
       "25       22    Toby  34.0 2023-03-02  149000.00  2023      3\n",
       "26       23     Vin  40.0 2023-03-02  148000.00  2023      3\n",
       "27       24     Gin  34.0 2003-03-02  149000.00  2003      3\n",
       "28       25   James  60.0 2023-03-02  169000.00  2023      3"
      ]
     },
     "execution_count": 27,
     "metadata": {},
     "output_type": "execute_result"
    }
   ],
   "source": [
    "df"
   ]
  },
  {
   "cell_type": "code",
   "execution_count": 28,
   "metadata": {},
   "outputs": [],
   "source": [
    "df.drop(['year', 'month'], axis = 1, inplace=True)"
   ]
  },
  {
   "cell_type": "markdown",
   "metadata": {},
   "source": [
    "### Question 3\n",
    "Display user record who has filled all data (data not be NaN, empty or \"-\")\n",
    "\n"
   ]
  },
  {
   "cell_type": "code",
   "execution_count": 29,
   "metadata": {},
   "outputs": [
    {
     "name": "stdout",
     "output_type": "stream",
     "text": [
      "    user_id    name   age  join_date     salary\n",
      "0         1    John  28.0 2023-02-01   50000.00\n",
      "1         2   Alice  34.0 2023-02-02   52000.00\n",
      "2         3     Bob  34.0 2023-03-02   49000.00\n",
      "4         4    Emma  45.0 2023-02-15   47000.00\n",
      "5         5    Grek  32.0 2023-02-15   23000.32\n",
      "6         6   Allen  26.0 2023-09-23   30000.00\n",
      "7         7   Allen  26.0 2023-09-23   30000.00\n",
      "8         8   Chris  28.0 2020-11-13   35000.25\n",
      "9         9     Bob  33.0 2023-04-02   49000.00\n",
      "10       10    Bobb  34.0 2023-03-01   49000.00\n",
      "12       12   Bobby  34.0 2023-03-01   49000.00\n",
      "13       13     Bab  39.0 2023-02-02   49000.00\n",
      "15       15     Bob  39.0 2024-03-02   69000.00\n",
      "16       16    Toby  34.0 2023-03-02   49000.00\n",
      "17       17    Eggy  36.0 2023-12-16   58000.00\n",
      "19       18    Emma  22.0 2023-03-02   22000.00\n",
      "22       19     Bob  33.0 2023-04-02  100000.00\n",
      "23       20  Muller  34.0 2023-04-15  100000.00\n",
      "24       21    Mike  54.0 2022-03-15  120000.00\n",
      "25       22    Toby  34.0 2023-03-02  149000.00\n",
      "26       23     Vin  40.0 2023-03-02  148000.00\n",
      "27       24     Gin  34.0 2003-03-02  149000.00\n",
      "28       25   James  60.0 2023-03-02  169000.00\n"
     ]
    }
   ],
   "source": [
    "# Write you code and display question 3 result here.\n",
    "filled_records = df[(~df.isna().any(axis=1)) & (~df.isin(['', '-']).any(axis=1))]\n",
    "\n",
    "print(filled_records)"
   ]
  },
  {
   "cell_type": "code",
   "execution_count": 30,
   "metadata": {},
   "outputs": [
    {
     "data": {
      "text/plain": [
       "True"
      ]
     },
     "execution_count": 30,
     "metadata": {},
     "output_type": "execute_result"
    }
   ],
   "source": [
    "# since we imputed all NaN values, filled_records is the same as tranformed df\n",
    "all(filled_records == df)"
   ]
  }
 ],
 "metadata": {
  "kernelspec": {
   "display_name": "base",
   "language": "python",
   "name": "python3"
  },
  "language_info": {
   "codemirror_mode": {
    "name": "ipython",
    "version": 3
   },
   "file_extension": ".py",
   "mimetype": "text/x-python",
   "name": "python",
   "nbconvert_exporter": "python",
   "pygments_lexer": "ipython3",
   "version": "3.11.10"
  }
 },
 "nbformat": 4,
 "nbformat_minor": 2
}
